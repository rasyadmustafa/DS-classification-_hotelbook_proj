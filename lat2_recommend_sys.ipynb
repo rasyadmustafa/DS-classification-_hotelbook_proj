{
 "metadata": {
  "language_info": {
   "codemirror_mode": {
    "name": "ipython",
    "version": 3
   },
   "file_extension": ".py",
   "mimetype": "text/x-python",
   "name": "python",
   "nbconvert_exporter": "python",
   "pygments_lexer": "ipython3",
   "version": "3.9.0"
  },
  "orig_nbformat": 2,
  "kernelspec": {
   "name": "python390jvsc74a57bd038740d3277777e2cd7c6c2cc9d8addf5118fdf3f82b1b39231fd12aeac8aee8b",
   "display_name": "Python 3.9.0 64-bit"
  },
  "metadata": {
   "interpreter": {
    "hash": "38740d3277777e2cd7c6c2cc9d8addf5118fdf3f82b1b39231fd12aeac8aee8b"
   }
  }
 },
 "nbformat": 4,
 "nbformat_minor": 2,
 "cells": [
  {
   "source": [
    "1. Implement collaborive filtering recommender system (memory based) to give at least five recommendation to a user/item\n",
    "    - User-based\n",
    "    - Item-based\n",
    "    \n",
    "2. (Bonus) Wrap the implementations into function\n",
    "    - parameters: user_id/item_id, number of top n users/items to consider, number of recommendation\n",
    "    - return value: collection of recommendation"
   ],
   "cell_type": "markdown",
   "metadata": {}
  },
  {
   "cell_type": "code",
   "execution_count": 1,
   "metadata": {},
   "outputs": [],
   "source": [
    "import pandas as pd \n",
    "import numpy as np \n",
    "import matplotlib.pyplot as plt \n",
    "import seaborn as sns "
   ]
  },
  {
   "cell_type": "code",
   "execution_count": 2,
   "metadata": {},
   "outputs": [],
   "source": [
    "books = pd.read_csv('book1-100k.csv')\n",
    "books = books[:20000]\n",
    "ratings = pd.read_csv('user_rating_0_to_1000.csv')\n",
    "ratings = ratings[:20000]"
   ]
  },
  {
   "cell_type": "code",
   "execution_count": 3,
   "metadata": {},
   "outputs": [
    {
     "output_type": "execute_result",
     "data": {
      "text/plain": [
       "   Id                                               Name RatingDist1  \\\n",
       "0   1  Harry Potter and the Half-Blood Prince (Harry ...      1:9896   \n",
       "1   2  Harry Potter and the Order of the Phoenix (Har...     1:12455   \n",
       "2   3  Harry Potter and the Sorcerer's Stone (Harry P...    1:108202   \n",
       "3   4  Harry Potter and the Chamber of Secrets (Harry...     1:11896   \n",
       "4   5  Harry Potter and the Prisoner of Azkaban (Harr...     1:10128   \n",
       "\n",
       "   pagesNumber RatingDist4 RatingDistTotal  PublishMonth  PublishDay  \\\n",
       "0          652    4:556485   total:2298124            16           9   \n",
       "1          870    4:604283   total:2358637             1           9   \n",
       "2          309   4:1513191   total:6587388             1          11   \n",
       "3          352    4:706082   total:2560657             1          11   \n",
       "4          435    4:630534   total:2610317             1           5   \n",
       "\n",
       "         Publisher  CountsOfReview  PublishYear Language       Authors  \\\n",
       "0  Scholastic Inc.           28062         2006      eng  J.K. Rowling   \n",
       "1  Scholastic Inc.           29770         2004      eng  J.K. Rowling   \n",
       "2   Scholastic Inc           75911         2003      eng  J.K. Rowling   \n",
       "3       Scholastic             244         2003      eng  J.K. Rowling   \n",
       "4  Scholastic Inc.           37093         2004      eng  J.K. Rowling   \n",
       "\n",
       "   Rating RatingDist2 RatingDist5        ISBN RatingDist3  \n",
       "0    4.57     2:25317   5:1546466         NaN    3:159960  \n",
       "1    4.50     2:37005   5:1493113  0439358078    3:211781  \n",
       "2    4.47    2:130310   5:4268227         NaN    3:567458  \n",
       "3    4.42     2:49353   5:1504505  0439554896    3:288821  \n",
       "4    4.57     2:24849   5:1749958  043965548X    3:194848  "
      ],
      "text/html": "<div>\n<style scoped>\n    .dataframe tbody tr th:only-of-type {\n        vertical-align: middle;\n    }\n\n    .dataframe tbody tr th {\n        vertical-align: top;\n    }\n\n    .dataframe thead th {\n        text-align: right;\n    }\n</style>\n<table border=\"1\" class=\"dataframe\">\n  <thead>\n    <tr style=\"text-align: right;\">\n      <th></th>\n      <th>Id</th>\n      <th>Name</th>\n      <th>RatingDist1</th>\n      <th>pagesNumber</th>\n      <th>RatingDist4</th>\n      <th>RatingDistTotal</th>\n      <th>PublishMonth</th>\n      <th>PublishDay</th>\n      <th>Publisher</th>\n      <th>CountsOfReview</th>\n      <th>PublishYear</th>\n      <th>Language</th>\n      <th>Authors</th>\n      <th>Rating</th>\n      <th>RatingDist2</th>\n      <th>RatingDist5</th>\n      <th>ISBN</th>\n      <th>RatingDist3</th>\n    </tr>\n  </thead>\n  <tbody>\n    <tr>\n      <th>0</th>\n      <td>1</td>\n      <td>Harry Potter and the Half-Blood Prince (Harry ...</td>\n      <td>1:9896</td>\n      <td>652</td>\n      <td>4:556485</td>\n      <td>total:2298124</td>\n      <td>16</td>\n      <td>9</td>\n      <td>Scholastic Inc.</td>\n      <td>28062</td>\n      <td>2006</td>\n      <td>eng</td>\n      <td>J.K. Rowling</td>\n      <td>4.57</td>\n      <td>2:25317</td>\n      <td>5:1546466</td>\n      <td>NaN</td>\n      <td>3:159960</td>\n    </tr>\n    <tr>\n      <th>1</th>\n      <td>2</td>\n      <td>Harry Potter and the Order of the Phoenix (Har...</td>\n      <td>1:12455</td>\n      <td>870</td>\n      <td>4:604283</td>\n      <td>total:2358637</td>\n      <td>1</td>\n      <td>9</td>\n      <td>Scholastic Inc.</td>\n      <td>29770</td>\n      <td>2004</td>\n      <td>eng</td>\n      <td>J.K. Rowling</td>\n      <td>4.50</td>\n      <td>2:37005</td>\n      <td>5:1493113</td>\n      <td>0439358078</td>\n      <td>3:211781</td>\n    </tr>\n    <tr>\n      <th>2</th>\n      <td>3</td>\n      <td>Harry Potter and the Sorcerer's Stone (Harry P...</td>\n      <td>1:108202</td>\n      <td>309</td>\n      <td>4:1513191</td>\n      <td>total:6587388</td>\n      <td>1</td>\n      <td>11</td>\n      <td>Scholastic Inc</td>\n      <td>75911</td>\n      <td>2003</td>\n      <td>eng</td>\n      <td>J.K. Rowling</td>\n      <td>4.47</td>\n      <td>2:130310</td>\n      <td>5:4268227</td>\n      <td>NaN</td>\n      <td>3:567458</td>\n    </tr>\n    <tr>\n      <th>3</th>\n      <td>4</td>\n      <td>Harry Potter and the Chamber of Secrets (Harry...</td>\n      <td>1:11896</td>\n      <td>352</td>\n      <td>4:706082</td>\n      <td>total:2560657</td>\n      <td>1</td>\n      <td>11</td>\n      <td>Scholastic</td>\n      <td>244</td>\n      <td>2003</td>\n      <td>eng</td>\n      <td>J.K. Rowling</td>\n      <td>4.42</td>\n      <td>2:49353</td>\n      <td>5:1504505</td>\n      <td>0439554896</td>\n      <td>3:288821</td>\n    </tr>\n    <tr>\n      <th>4</th>\n      <td>5</td>\n      <td>Harry Potter and the Prisoner of Azkaban (Harr...</td>\n      <td>1:10128</td>\n      <td>435</td>\n      <td>4:630534</td>\n      <td>total:2610317</td>\n      <td>1</td>\n      <td>5</td>\n      <td>Scholastic Inc.</td>\n      <td>37093</td>\n      <td>2004</td>\n      <td>eng</td>\n      <td>J.K. Rowling</td>\n      <td>4.57</td>\n      <td>2:24849</td>\n      <td>5:1749958</td>\n      <td>043965548X</td>\n      <td>3:194848</td>\n    </tr>\n  </tbody>\n</table>\n</div>"
     },
     "metadata": {},
     "execution_count": 3
    }
   ],
   "source": [
    "books.head()"
   ]
  },
  {
   "cell_type": "code",
   "execution_count": 4,
   "metadata": {},
   "outputs": [
    {
     "output_type": "execute_result",
     "data": {
      "text/plain": [
       "    ID                                               Name  Rating  Id  \\\n",
       "0    1  Agile Web Development with Rails: A Pragmatic ...       5  45   \n",
       "1   18  Agile Web Development with Rails: A Pragmatic ...       4  45   \n",
       "2   35  Agile Web Development with Rails: A Pragmatic ...       5  45   \n",
       "3   96  Agile Web Development with Rails: A Pragmatic ...       4  45   \n",
       "4  124  Agile Web Development with Rails: A Pragmatic ...       4  45   \n",
       "\n",
       "       Authors  \n",
       "0  Dave Thomas  \n",
       "1  Dave Thomas  \n",
       "2  Dave Thomas  \n",
       "3  Dave Thomas  \n",
       "4  Dave Thomas  "
      ],
      "text/html": "<div>\n<style scoped>\n    .dataframe tbody tr th:only-of-type {\n        vertical-align: middle;\n    }\n\n    .dataframe tbody tr th {\n        vertical-align: top;\n    }\n\n    .dataframe thead th {\n        text-align: right;\n    }\n</style>\n<table border=\"1\" class=\"dataframe\">\n  <thead>\n    <tr style=\"text-align: right;\">\n      <th></th>\n      <th>ID</th>\n      <th>Name</th>\n      <th>Rating</th>\n      <th>Id</th>\n      <th>Authors</th>\n    </tr>\n  </thead>\n  <tbody>\n    <tr>\n      <th>0</th>\n      <td>1</td>\n      <td>Agile Web Development with Rails: A Pragmatic ...</td>\n      <td>5</td>\n      <td>45</td>\n      <td>Dave Thomas</td>\n    </tr>\n    <tr>\n      <th>1</th>\n      <td>18</td>\n      <td>Agile Web Development with Rails: A Pragmatic ...</td>\n      <td>4</td>\n      <td>45</td>\n      <td>Dave Thomas</td>\n    </tr>\n    <tr>\n      <th>2</th>\n      <td>35</td>\n      <td>Agile Web Development with Rails: A Pragmatic ...</td>\n      <td>5</td>\n      <td>45</td>\n      <td>Dave Thomas</td>\n    </tr>\n    <tr>\n      <th>3</th>\n      <td>96</td>\n      <td>Agile Web Development with Rails: A Pragmatic ...</td>\n      <td>4</td>\n      <td>45</td>\n      <td>Dave Thomas</td>\n    </tr>\n    <tr>\n      <th>4</th>\n      <td>124</td>\n      <td>Agile Web Development with Rails: A Pragmatic ...</td>\n      <td>4</td>\n      <td>45</td>\n      <td>Dave Thomas</td>\n    </tr>\n  </tbody>\n</table>\n</div>"
     },
     "metadata": {},
     "execution_count": 4
    }
   ],
   "source": [
    "# create rating list with movie titles\n",
    "books_ratings = pd.merge(\n",
    "    left= ratings,\n",
    "    right= books[['Id','Name','Authors']],\n",
    "    how='inner',\n",
    "    left_on='Name',\n",
    "    right_on='Name'\n",
    ")\n",
    "\n",
    "books_ratings['Rating'].replace(['it was amazing', 'really liked it', 'liked it', 'it was ok', 'did not like it', 'This user doesnt have any rating'], [5, 4, 3, 2, 1, 1], inplace= True)\n",
    "\n",
    "books_ratings.head()"
   ]
  },
  {
   "cell_type": "code",
   "execution_count": 5,
   "metadata": {},
   "outputs": [],
   "source": [
    "user_book_matrix = books_ratings.pivot_table(index='ID', columns='Name',values='Rating', fill_value=0)\n",
    "\n",
    "user_book_id_matrix = books_ratings.pivot_table(index='ID', columns='Id',values='Rating', fill_value=0)"
   ]
  },
  {
   "cell_type": "code",
   "execution_count": 6,
   "metadata": {},
   "outputs": [
    {
     "output_type": "execute_result",
     "data": {
      "text/plain": [
       "      A.C. Weisbecker  A.S. Byatt  Abigail Thomas  Adam Gopnik  \\\n",
       "Id                                                               \n",
       "45                  0           0               0            0   \n",
       "8695                0           0               0            0   \n",
       "4197                0           0               0            0   \n",
       "21                  0           0               0            0   \n",
       "960                 0           0               0            0   \n",
       "\n",
       "      Adam Hochschild  Adam Smith  Adrienne Sharp  Aeschylus  Aesop  \\\n",
       "Id                                                                    \n",
       "45                  0           0               0          0      0   \n",
       "8695                0           0               0          0      0   \n",
       "4197                0           0               0          0      0   \n",
       "21                  0           0               0          0      0   \n",
       "960                 0           0               0          0      0   \n",
       "\n",
       "      Agatha Christie  ...  Wisława Szymborska  Wole Soyinka  Yann Martel  \\\n",
       "Id                     ...                                                  \n",
       "45                  0  ...                   0             0            0   \n",
       "8695                0  ...                   0             0            0   \n",
       "4197                0  ...                   0             0            0   \n",
       "21                  0  ...                   0             0            0   \n",
       "960                 0  ...                   0             0            0   \n",
       "\n",
       "      Zadie Smith  Zilpha Keatley Snyder  Zora Neale Hurston  Zoë Heller  \\\n",
       "Id                                                                         \n",
       "45              0                      0                   0           0   \n",
       "8695            0                      0                   0           0   \n",
       "4197            0                      0                   0           0   \n",
       "21              0                      0                   0           0   \n",
       "960             0                      0                   0           0   \n",
       "\n",
       "      bell hooks  Åsne Seierstad  Éric-Emmanuel Schmitt  \n",
       "Id                                                       \n",
       "45             0               0                      0  \n",
       "8695           0               0                      0  \n",
       "4197           0               0                      0  \n",
       "21             0               0                      0  \n",
       "960            0               0                      0  \n",
       "\n",
       "[5 rows x 1199 columns]"
      ],
      "text/html": "<div>\n<style scoped>\n    .dataframe tbody tr th:only-of-type {\n        vertical-align: middle;\n    }\n\n    .dataframe tbody tr th {\n        vertical-align: top;\n    }\n\n    .dataframe thead th {\n        text-align: right;\n    }\n</style>\n<table border=\"1\" class=\"dataframe\">\n  <thead>\n    <tr style=\"text-align: right;\">\n      <th></th>\n      <th>A.C. Weisbecker</th>\n      <th>A.S. Byatt</th>\n      <th>Abigail Thomas</th>\n      <th>Adam Gopnik</th>\n      <th>Adam Hochschild</th>\n      <th>Adam Smith</th>\n      <th>Adrienne Sharp</th>\n      <th>Aeschylus</th>\n      <th>Aesop</th>\n      <th>Agatha Christie</th>\n      <th>...</th>\n      <th>Wisława Szymborska</th>\n      <th>Wole Soyinka</th>\n      <th>Yann Martel</th>\n      <th>Zadie Smith</th>\n      <th>Zilpha Keatley Snyder</th>\n      <th>Zora Neale Hurston</th>\n      <th>Zoë Heller</th>\n      <th>bell hooks</th>\n      <th>Åsne Seierstad</th>\n      <th>Éric-Emmanuel Schmitt</th>\n    </tr>\n    <tr>\n      <th>Id</th>\n      <th></th>\n      <th></th>\n      <th></th>\n      <th></th>\n      <th></th>\n      <th></th>\n      <th></th>\n      <th></th>\n      <th></th>\n      <th></th>\n      <th></th>\n      <th></th>\n      <th></th>\n      <th></th>\n      <th></th>\n      <th></th>\n      <th></th>\n      <th></th>\n      <th></th>\n      <th></th>\n      <th></th>\n    </tr>\n  </thead>\n  <tbody>\n    <tr>\n      <th>45</th>\n      <td>0</td>\n      <td>0</td>\n      <td>0</td>\n      <td>0</td>\n      <td>0</td>\n      <td>0</td>\n      <td>0</td>\n      <td>0</td>\n      <td>0</td>\n      <td>0</td>\n      <td>...</td>\n      <td>0</td>\n      <td>0</td>\n      <td>0</td>\n      <td>0</td>\n      <td>0</td>\n      <td>0</td>\n      <td>0</td>\n      <td>0</td>\n      <td>0</td>\n      <td>0</td>\n    </tr>\n    <tr>\n      <th>8695</th>\n      <td>0</td>\n      <td>0</td>\n      <td>0</td>\n      <td>0</td>\n      <td>0</td>\n      <td>0</td>\n      <td>0</td>\n      <td>0</td>\n      <td>0</td>\n      <td>0</td>\n      <td>...</td>\n      <td>0</td>\n      <td>0</td>\n      <td>0</td>\n      <td>0</td>\n      <td>0</td>\n      <td>0</td>\n      <td>0</td>\n      <td>0</td>\n      <td>0</td>\n      <td>0</td>\n    </tr>\n    <tr>\n      <th>4197</th>\n      <td>0</td>\n      <td>0</td>\n      <td>0</td>\n      <td>0</td>\n      <td>0</td>\n      <td>0</td>\n      <td>0</td>\n      <td>0</td>\n      <td>0</td>\n      <td>0</td>\n      <td>...</td>\n      <td>0</td>\n      <td>0</td>\n      <td>0</td>\n      <td>0</td>\n      <td>0</td>\n      <td>0</td>\n      <td>0</td>\n      <td>0</td>\n      <td>0</td>\n      <td>0</td>\n    </tr>\n    <tr>\n      <th>21</th>\n      <td>0</td>\n      <td>0</td>\n      <td>0</td>\n      <td>0</td>\n      <td>0</td>\n      <td>0</td>\n      <td>0</td>\n      <td>0</td>\n      <td>0</td>\n      <td>0</td>\n      <td>...</td>\n      <td>0</td>\n      <td>0</td>\n      <td>0</td>\n      <td>0</td>\n      <td>0</td>\n      <td>0</td>\n      <td>0</td>\n      <td>0</td>\n      <td>0</td>\n      <td>0</td>\n    </tr>\n    <tr>\n      <th>960</th>\n      <td>0</td>\n      <td>0</td>\n      <td>0</td>\n      <td>0</td>\n      <td>0</td>\n      <td>0</td>\n      <td>0</td>\n      <td>0</td>\n      <td>0</td>\n      <td>0</td>\n      <td>...</td>\n      <td>0</td>\n      <td>0</td>\n      <td>0</td>\n      <td>0</td>\n      <td>0</td>\n      <td>0</td>\n      <td>0</td>\n      <td>0</td>\n      <td>0</td>\n      <td>0</td>\n    </tr>\n  </tbody>\n</table>\n<p>5 rows × 1199 columns</p>\n</div>"
     },
     "metadata": {},
     "execution_count": 6
    }
   ],
   "source": [
    "books_authors = books_ratings[['Id', 'Authors']].copy()\n",
    "books_authors = books_authors.set_index('Id')\n",
    "books_authors = books_authors['Authors'].apply(pd.Series).stack()\n",
    "\n",
    "books_feature_matrix = pd.get_dummies(books_authors).sum(level=0)\n",
    "books_feature_matrix.head()"
   ]
  },
  {
   "cell_type": "code",
   "execution_count": 7,
   "metadata": {},
   "outputs": [
    {
     "output_type": "execute_result",
     "data": {
      "text/plain": [
       "284    683\n",
       "327    363\n",
       "166    337\n",
       "338    288\n",
       "5      265\n",
       "Name: ID, dtype: int64"
      ]
     },
     "metadata": {},
     "execution_count": 7
    }
   ],
   "source": [
    "books_ratings['ID'].value_counts().head()"
   ]
  },
  {
   "source": [
    "# Content-based Recommendation"
   ],
   "cell_type": "markdown",
   "metadata": {}
  },
  {
   "cell_type": "code",
   "execution_count": 8,
   "metadata": {},
   "outputs": [],
   "source": [
    "curr_user = 5\n",
    "curr_book = 3143"
   ]
  },
  {
   "cell_type": "code",
   "execution_count": 9,
   "metadata": {},
   "outputs": [],
   "source": [
    "# current user read book \n",
    "curr_user_read_book = books_ratings[books_ratings['ID'] == curr_user]['Id']"
   ]
  },
  {
   "cell_type": "code",
   "execution_count": 10,
   "metadata": {},
   "outputs": [],
   "source": [
    "# current user read book rating\n",
    "curr_user_read_book_rating = books_ratings[books_ratings['ID'] == curr_user][['Id', 'Rating']]"
   ]
  },
  {
   "cell_type": "code",
   "execution_count": 11,
   "metadata": {},
   "outputs": [
    {
     "output_type": "execute_result",
     "data": {
      "text/plain": [
       "      45     8695   4197   21     960    15245  5      1202   3750   27457  \\\n",
       "45      1.0    0.0    0.0    0.0    0.0    0.0    0.0    0.0    0.0    0.0   \n",
       "8695    0.0    1.0    0.0    0.0    0.0    0.0    0.0    0.0    0.0    0.0   \n",
       "4197    0.0    0.0    1.0    0.0    0.0    0.0    0.0    0.0    0.0    0.0   \n",
       "21      0.0    0.0    0.0    1.0    0.0    0.0    0.0    0.0    0.0    0.0   \n",
       "960     0.0    0.0    0.0    0.0    1.0    0.0    0.0    0.0    0.0    0.0   \n",
       "\n",
       "      ...  16451  16875  5207   12936  14352  2811   13152  17208  22283  \\\n",
       "45    ...    0.0    0.0    0.0    0.0    0.0    0.0    0.0    0.0    0.0   \n",
       "8695  ...    0.0    0.0    0.0    0.0    0.0    0.0    0.0    0.0    0.0   \n",
       "4197  ...    0.0    0.0    0.0    0.0    0.0    0.0    0.0    0.0    0.0   \n",
       "21    ...    0.0    0.0    0.0    0.0    0.0    0.0    0.0    0.0    0.0   \n",
       "960   ...    0.0    0.0    0.0    0.0    0.0    0.0    0.0    0.0    0.0   \n",
       "\n",
       "      28777  \n",
       "45      0.0  \n",
       "8695    0.0  \n",
       "4197    0.0  \n",
       "21      0.0  \n",
       "960     0.0  \n",
       "\n",
       "[5 rows x 2458 columns]"
      ],
      "text/html": "<div>\n<style scoped>\n    .dataframe tbody tr th:only-of-type {\n        vertical-align: middle;\n    }\n\n    .dataframe tbody tr th {\n        vertical-align: top;\n    }\n\n    .dataframe thead th {\n        text-align: right;\n    }\n</style>\n<table border=\"1\" class=\"dataframe\">\n  <thead>\n    <tr style=\"text-align: right;\">\n      <th></th>\n      <th>45</th>\n      <th>8695</th>\n      <th>4197</th>\n      <th>21</th>\n      <th>960</th>\n      <th>15245</th>\n      <th>5</th>\n      <th>1202</th>\n      <th>3750</th>\n      <th>27457</th>\n      <th>...</th>\n      <th>16451</th>\n      <th>16875</th>\n      <th>5207</th>\n      <th>12936</th>\n      <th>14352</th>\n      <th>2811</th>\n      <th>13152</th>\n      <th>17208</th>\n      <th>22283</th>\n      <th>28777</th>\n    </tr>\n  </thead>\n  <tbody>\n    <tr>\n      <th>45</th>\n      <td>1.0</td>\n      <td>0.0</td>\n      <td>0.0</td>\n      <td>0.0</td>\n      <td>0.0</td>\n      <td>0.0</td>\n      <td>0.0</td>\n      <td>0.0</td>\n      <td>0.0</td>\n      <td>0.0</td>\n      <td>...</td>\n      <td>0.0</td>\n      <td>0.0</td>\n      <td>0.0</td>\n      <td>0.0</td>\n      <td>0.0</td>\n      <td>0.0</td>\n      <td>0.0</td>\n      <td>0.0</td>\n      <td>0.0</td>\n      <td>0.0</td>\n    </tr>\n    <tr>\n      <th>8695</th>\n      <td>0.0</td>\n      <td>1.0</td>\n      <td>0.0</td>\n      <td>0.0</td>\n      <td>0.0</td>\n      <td>0.0</td>\n      <td>0.0</td>\n      <td>0.0</td>\n      <td>0.0</td>\n      <td>0.0</td>\n      <td>...</td>\n      <td>0.0</td>\n      <td>0.0</td>\n      <td>0.0</td>\n      <td>0.0</td>\n      <td>0.0</td>\n      <td>0.0</td>\n      <td>0.0</td>\n      <td>0.0</td>\n      <td>0.0</td>\n      <td>0.0</td>\n    </tr>\n    <tr>\n      <th>4197</th>\n      <td>0.0</td>\n      <td>0.0</td>\n      <td>1.0</td>\n      <td>0.0</td>\n      <td>0.0</td>\n      <td>0.0</td>\n      <td>0.0</td>\n      <td>0.0</td>\n      <td>0.0</td>\n      <td>0.0</td>\n      <td>...</td>\n      <td>0.0</td>\n      <td>0.0</td>\n      <td>0.0</td>\n      <td>0.0</td>\n      <td>0.0</td>\n      <td>0.0</td>\n      <td>0.0</td>\n      <td>0.0</td>\n      <td>0.0</td>\n      <td>0.0</td>\n    </tr>\n    <tr>\n      <th>21</th>\n      <td>0.0</td>\n      <td>0.0</td>\n      <td>0.0</td>\n      <td>1.0</td>\n      <td>0.0</td>\n      <td>0.0</td>\n      <td>0.0</td>\n      <td>0.0</td>\n      <td>0.0</td>\n      <td>0.0</td>\n      <td>...</td>\n      <td>0.0</td>\n      <td>0.0</td>\n      <td>0.0</td>\n      <td>0.0</td>\n      <td>0.0</td>\n      <td>0.0</td>\n      <td>0.0</td>\n      <td>0.0</td>\n      <td>0.0</td>\n      <td>0.0</td>\n    </tr>\n    <tr>\n      <th>960</th>\n      <td>0.0</td>\n      <td>0.0</td>\n      <td>0.0</td>\n      <td>0.0</td>\n      <td>1.0</td>\n      <td>0.0</td>\n      <td>0.0</td>\n      <td>0.0</td>\n      <td>0.0</td>\n      <td>0.0</td>\n      <td>...</td>\n      <td>0.0</td>\n      <td>0.0</td>\n      <td>0.0</td>\n      <td>0.0</td>\n      <td>0.0</td>\n      <td>0.0</td>\n      <td>0.0</td>\n      <td>0.0</td>\n      <td>0.0</td>\n      <td>0.0</td>\n    </tr>\n  </tbody>\n</table>\n<p>5 rows × 2458 columns</p>\n</div>"
     },
     "metadata": {},
     "execution_count": 11
    }
   ],
   "source": [
    "from sklearn.metrics.pairwise import cosine_similarity\n",
    "\n",
    "cosine_matrix = pd.DataFrame(\n",
    "    data=cosine_similarity(books_feature_matrix),\n",
    "    columns=books_feature_matrix.index.tolist(),\n",
    "    index=books_feature_matrix.index.tolist()\n",
    ")\n",
    "\n",
    "cosine_matrix.head()"
   ]
  },
  {
   "source": [
    "# Memory Based Filtering"
   ],
   "cell_type": "markdown",
   "metadata": {}
  },
  {
   "source": [
    "## user based"
   ],
   "cell_type": "markdown",
   "metadata": {}
  },
  {
   "cell_type": "code",
   "execution_count": 12,
   "metadata": {},
   "outputs": [
    {
     "output_type": "stream",
     "name": "stderr",
     "text": [
      "<ipython-input-12-7d8b94c2822c>:34: SettingWithCopyWarning: \nA value is trying to be set on a copy of a slice from a DataFrame.\nTry using .loc[row_indexer,col_indexer] = value instead\n\nSee the caveats in the documentation: https://pandas.pydata.org/pandas-docs/stable/user_guide/indexing.html#returning-a-view-versus-a-copy\n  curr_user_unread_books['est_rating_by_curr_user'] = curr_user_unread_books.sum(axis=1) / top_n\n"
     ]
    },
    {
     "output_type": "execute_result",
     "data": {
      "text/plain": [
       "Name\n",
       "The Westing Game                                              5.000000\n",
       "1984                                                          4.666667\n",
       "A Tale of Two Cities                                          4.333333\n",
       "Charlie and the Great Glass Elevator (Charlie Bucket, #2)     4.333333\n",
       "Island of the Blue Dolphins                                   4.333333\n",
       "Twelfth Night                                                 4.333333\n",
       "Harry Potter and the Chamber of Secrets (Harry Potter, #2)    3.333333\n",
       "A Heartbreaking Work of Staggering Genius                     2.666667\n",
       "Name: est_rating_by_curr_user, dtype: float64"
      ]
     },
     "metadata": {},
     "execution_count": 12
    }
   ],
   "source": [
    "# which user we'll give a recommendation to\n",
    "#curr_user\n",
    "\n",
    "# create user similarity matrix\n",
    "user_sim_score = pd.DataFrame(\n",
    "    data=cosine_similarity(user_book_matrix),\n",
    "    index=user_book_matrix.index.tolist(),\n",
    "    columns=user_book_matrix.index.tolist()\n",
    ")\n",
    "\n",
    "# get users with similar preference with current user\n",
    "user_sim_with_curr = user_sim_score[curr_user].sort_values(ascending=False).reset_index().rename(columns={'index' : 'id', curr_user:'sim_score'})\n",
    "\n",
    "top_n = 3\n",
    "\n",
    "top_n_sim_user = user_sim_with_curr[: top_n +1]\n",
    "\n",
    "# get books who have been read by top n similar users\n",
    "top_n_book_matrix = user_book_matrix[user_book_matrix.index.isin(top_n_sim_user['id'])].T\n",
    "\n",
    "# have been user read but did not read by current user\n",
    "user_id_tmp = top_n_book_matrix.columns.tolist()\n",
    "user_id_tmp.remove(curr_user)\n",
    "\n",
    "curr_user_unread_books = top_n_book_matrix[\n",
    "    (top_n_book_matrix[curr_user] == 0)\n",
    "    & \n",
    "      (top_n_book_matrix[user_id_tmp[0]] > 0)\n",
    "    & (top_n_book_matrix[user_id_tmp[1]] > 0)\n",
    "    & (top_n_book_matrix[user_id_tmp[2]] > 0)    \n",
    "]\n",
    "\n",
    "# order and filter\n",
    "curr_user_unread_books['est_rating_by_curr_user'] = curr_user_unread_books.sum(axis=1) / top_n\n",
    "\n",
    "curr_user_unread_books.sort_values(by='est_rating_by_curr_user', ascending=False)[:10]['est_rating_by_curr_user']"
   ]
  },
  {
   "cell_type": "code",
   "execution_count": 25,
   "metadata": {},
   "outputs": [
    {
     "output_type": "execute_result",
     "data": {
      "text/plain": [
       "      id  sim_score\n",
       "0      5   1.000000\n",
       "1    284   0.313211\n",
       "2    327   0.288622\n",
       "3    198   0.263835\n",
       "4    166   0.249932\n",
       "..   ...        ...\n",
       "171  105   0.000000\n",
       "172   96   0.000000\n",
       "173   92   0.000000\n",
       "174   89   0.000000\n",
       "175  323   0.000000\n",
       "\n",
       "[176 rows x 2 columns]"
      ],
      "text/html": "<div>\n<style scoped>\n    .dataframe tbody tr th:only-of-type {\n        vertical-align: middle;\n    }\n\n    .dataframe tbody tr th {\n        vertical-align: top;\n    }\n\n    .dataframe thead th {\n        text-align: right;\n    }\n</style>\n<table border=\"1\" class=\"dataframe\">\n  <thead>\n    <tr style=\"text-align: right;\">\n      <th></th>\n      <th>id</th>\n      <th>sim_score</th>\n    </tr>\n  </thead>\n  <tbody>\n    <tr>\n      <th>0</th>\n      <td>5</td>\n      <td>1.000000</td>\n    </tr>\n    <tr>\n      <th>1</th>\n      <td>284</td>\n      <td>0.313211</td>\n    </tr>\n    <tr>\n      <th>2</th>\n      <td>327</td>\n      <td>0.288622</td>\n    </tr>\n    <tr>\n      <th>3</th>\n      <td>198</td>\n      <td>0.263835</td>\n    </tr>\n    <tr>\n      <th>4</th>\n      <td>166</td>\n      <td>0.249932</td>\n    </tr>\n    <tr>\n      <th>...</th>\n      <td>...</td>\n      <td>...</td>\n    </tr>\n    <tr>\n      <th>171</th>\n      <td>105</td>\n      <td>0.000000</td>\n    </tr>\n    <tr>\n      <th>172</th>\n      <td>96</td>\n      <td>0.000000</td>\n    </tr>\n    <tr>\n      <th>173</th>\n      <td>92</td>\n      <td>0.000000</td>\n    </tr>\n    <tr>\n      <th>174</th>\n      <td>89</td>\n      <td>0.000000</td>\n    </tr>\n    <tr>\n      <th>175</th>\n      <td>323</td>\n      <td>0.000000</td>\n    </tr>\n  </tbody>\n</table>\n<p>176 rows × 2 columns</p>\n</div>"
     },
     "metadata": {},
     "execution_count": 25
    }
   ],
   "source": [
    "user_sim_with_curr"
   ]
  },
  {
   "cell_type": "code",
   "execution_count": 23,
   "metadata": {},
   "outputs": [
    {
     "output_type": "execute_result",
     "data": {
      "text/plain": [
       "    id  sim_score\n",
       "0    5   1.000000\n",
       "1  284   0.313211\n",
       "2  327   0.288622\n",
       "3  198   0.263835"
      ],
      "text/html": "<div>\n<style scoped>\n    .dataframe tbody tr th:only-of-type {\n        vertical-align: middle;\n    }\n\n    .dataframe tbody tr th {\n        vertical-align: top;\n    }\n\n    .dataframe thead th {\n        text-align: right;\n    }\n</style>\n<table border=\"1\" class=\"dataframe\">\n  <thead>\n    <tr style=\"text-align: right;\">\n      <th></th>\n      <th>id</th>\n      <th>sim_score</th>\n    </tr>\n  </thead>\n  <tbody>\n    <tr>\n      <th>0</th>\n      <td>5</td>\n      <td>1.000000</td>\n    </tr>\n    <tr>\n      <th>1</th>\n      <td>284</td>\n      <td>0.313211</td>\n    </tr>\n    <tr>\n      <th>2</th>\n      <td>327</td>\n      <td>0.288622</td>\n    </tr>\n    <tr>\n      <th>3</th>\n      <td>198</td>\n      <td>0.263835</td>\n    </tr>\n  </tbody>\n</table>\n</div>"
     },
     "metadata": {},
     "execution_count": 23
    }
   ],
   "source": [
    "top_n_sim_user"
   ]
  },
  {
   "source": [
    "## item based"
   ],
   "cell_type": "markdown",
   "metadata": {}
  },
  {
   "cell_type": "code",
   "execution_count": 21,
   "metadata": {},
   "outputs": [],
   "source": [
    "# which book we'd like to recommend to a user\n",
    "curr_book_title = books[books['Id'] == curr_book]['Name'].values[0]\n",
    "\n",
    "# create book similarity matrix\n",
    "book_sim_score = pd.DataFrame(\n",
    "    data=cosine_similarity(user_book_matrix.T),\n",
    "    index= user_book_matrix.T.index.tolist(),\n",
    "    columns=user_book_matrix.T.index.tolist()\n",
    ")\n",
    "\n",
    "# get books which are similarly preferenced as current book\n",
    "books_sim_with_curr = book_sim_score[curr_book_title].sort_values(ascending=False).reset_index().rename(columns={'index' : 'title', curr_book_title: 'sim_score'})\n",
    "\n",
    "top_n = 3\n",
    "top_n_sim_book = books_sim_with_curr[:top_n + 1]\n",
    "\n",
    "# # get users who have read top n books but haven't read current books\n",
    "# top_n_user_matrix = user_book_matrix.T[user_book_matrix.T.index.isin(top_n_sim_book['title'])].T\n",
    "\n",
    "# # the book has been read by the user but curr book didnt\n",
    "# movie_tmp = top_n_user_matrix.columns.tolist()\n",
    "# movie_tmp.remove(curr_book_title)\n",
    "\n",
    "# curr_books_unread_users = top_n_user_matrix[\n",
    "#       (top_n_user_matrix[curr_book_title] == 0)\n",
    "#     & \n",
    "#       (top_n_user_matrix[movie_tmp[0]] > 0)\n",
    "#     & (top_n_user_matrix[movie_tmp[1]] > 0)\n",
    "#     & (top_n_user_matrix[movie_tmp[2]] > 0)    \n",
    "# ]"
   ]
  },
  {
   "cell_type": "code",
   "execution_count": 22,
   "metadata": {},
   "outputs": [
    {
     "output_type": "execute_result",
     "data": {
      "text/plain": [
       "                         title  sim_score\n",
       "0         Kiffe Kiffe Tomorrow        1.0\n",
       "1                       Ballet        1.0\n",
       "2  Drina Dances in Switzerland        1.0\n",
       "3        Drina Dances in Paris        1.0"
      ],
      "text/html": "<div>\n<style scoped>\n    .dataframe tbody tr th:only-of-type {\n        vertical-align: middle;\n    }\n\n    .dataframe tbody tr th {\n        vertical-align: top;\n    }\n\n    .dataframe thead th {\n        text-align: right;\n    }\n</style>\n<table border=\"1\" class=\"dataframe\">\n  <thead>\n    <tr style=\"text-align: right;\">\n      <th></th>\n      <th>title</th>\n      <th>sim_score</th>\n    </tr>\n  </thead>\n  <tbody>\n    <tr>\n      <th>0</th>\n      <td>Kiffe Kiffe Tomorrow</td>\n      <td>1.0</td>\n    </tr>\n    <tr>\n      <th>1</th>\n      <td>Ballet</td>\n      <td>1.0</td>\n    </tr>\n    <tr>\n      <th>2</th>\n      <td>Drina Dances in Switzerland</td>\n      <td>1.0</td>\n    </tr>\n    <tr>\n      <th>3</th>\n      <td>Drina Dances in Paris</td>\n      <td>1.0</td>\n    </tr>\n  </tbody>\n</table>\n</div>"
     },
     "metadata": {},
     "execution_count": 22
    }
   ],
   "source": [
    "top_n_sim_book"
   ]
  },
  {
   "cell_type": "code",
   "execution_count": 24,
   "metadata": {},
   "outputs": [
    {
     "output_type": "execute_result",
     "data": {
      "text/plain": [
       "                                                  title  sim_score\n",
       "0                                  Kiffe Kiffe Tomorrow        1.0\n",
       "1                                                Ballet        1.0\n",
       "2                           Drina Dances in Switzerland        1.0\n",
       "3                                 Drina Dances in Paris        1.0\n",
       "4                               Drina Dances in Madeira        1.0\n",
       "...                                                 ...        ...\n",
       "2453  The Boleyn Inheritance (The Plantagenet and Tu...        0.0\n",
       "2454          The Body in the Library (Miss Marple, #3)        0.0\n",
       "2455                  The Body Farm (Kay Scarpetta, #5)        0.0\n",
       "2456                                           The Body        0.0\n",
       "2457                                   \"B\" Is for Betsy        0.0\n",
       "\n",
       "[2458 rows x 2 columns]"
      ],
      "text/html": "<div>\n<style scoped>\n    .dataframe tbody tr th:only-of-type {\n        vertical-align: middle;\n    }\n\n    .dataframe tbody tr th {\n        vertical-align: top;\n    }\n\n    .dataframe thead th {\n        text-align: right;\n    }\n</style>\n<table border=\"1\" class=\"dataframe\">\n  <thead>\n    <tr style=\"text-align: right;\">\n      <th></th>\n      <th>title</th>\n      <th>sim_score</th>\n    </tr>\n  </thead>\n  <tbody>\n    <tr>\n      <th>0</th>\n      <td>Kiffe Kiffe Tomorrow</td>\n      <td>1.0</td>\n    </tr>\n    <tr>\n      <th>1</th>\n      <td>Ballet</td>\n      <td>1.0</td>\n    </tr>\n    <tr>\n      <th>2</th>\n      <td>Drina Dances in Switzerland</td>\n      <td>1.0</td>\n    </tr>\n    <tr>\n      <th>3</th>\n      <td>Drina Dances in Paris</td>\n      <td>1.0</td>\n    </tr>\n    <tr>\n      <th>4</th>\n      <td>Drina Dances in Madeira</td>\n      <td>1.0</td>\n    </tr>\n    <tr>\n      <th>...</th>\n      <td>...</td>\n      <td>...</td>\n    </tr>\n    <tr>\n      <th>2453</th>\n      <td>The Boleyn Inheritance (The Plantagenet and Tu...</td>\n      <td>0.0</td>\n    </tr>\n    <tr>\n      <th>2454</th>\n      <td>The Body in the Library (Miss Marple, #3)</td>\n      <td>0.0</td>\n    </tr>\n    <tr>\n      <th>2455</th>\n      <td>The Body Farm (Kay Scarpetta, #5)</td>\n      <td>0.0</td>\n    </tr>\n    <tr>\n      <th>2456</th>\n      <td>The Body</td>\n      <td>0.0</td>\n    </tr>\n    <tr>\n      <th>2457</th>\n      <td>\"B\" Is for Betsy</td>\n      <td>0.0</td>\n    </tr>\n  </tbody>\n</table>\n<p>2458 rows × 2 columns</p>\n</div>"
     },
     "metadata": {},
     "execution_count": 24
    }
   ],
   "source": [
    "books_sim_with_curr"
   ]
  },
  {
   "cell_type": "code",
   "execution_count": 26,
   "metadata": {},
   "outputs": [
    {
     "output_type": "execute_result",
     "data": {
      "text/plain": [
       "'Drina Dances in Exile'"
      ]
     },
     "metadata": {},
     "execution_count": 26
    }
   ],
   "source": [
    "curr_book_title"
   ]
  },
  {
   "cell_type": "code",
   "execution_count": null,
   "metadata": {},
   "outputs": [],
   "source": []
  }
 ]
}